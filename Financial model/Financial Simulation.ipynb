{
 "cells": [
  {
   "cell_type": "code",
   "execution_count": 1,
   "id": "1ac44a3e",
   "metadata": {},
   "outputs": [],
   "source": [
    "import numpy as np\n",
    "import matplotlib.pyplot as plt\n",
    "import pandas as pd\n",
    "import numpy as np\n",
    "import os\n",
    "import random"
   ]
  },
  {
   "cell_type": "code",
   "execution_count": 2,
   "id": "51586aa3",
   "metadata": {
    "scrolled": true
   },
   "outputs": [
    {
     "data": {
      "text/plain": [
       "(109435, 5)"
      ]
     },
     "execution_count": 2,
     "metadata": {},
     "output_type": "execute_result"
    }
   ],
   "source": [
    "df = pd.read_csv(\"test_predicted.csv\")\n",
    "\n",
    "loan_data=df[[\n",
    "    \"LoanAmount\",\n",
    "    \"InterestRate\",\n",
    "    \"LoanTerm\",\"LoanPurpose\",\"DefaultProbability\"]]\n",
    "df.head(10)\n",
    "loan_data.shape"
   ]
  },
  {
   "cell_type": "code",
   "execution_count": 3,
   "id": "63d927d0",
   "metadata": {},
   "outputs": [],
   "source": [
    "def monthly_payment(P, annual_rate, months):\n",
    "    r_m = annual_rate / 12\n",
    "    n=months\n",
    "    # Amortized loan formula\n",
    "    M = P * (r_m * (1 + r_m) ** n) / ((1 + r_m) ** n - 1)\n",
    "    return M\n"
   ]
  },
  {
   "cell_type": "code",
   "execution_count": 4,
   "id": "b5694482",
   "metadata": {},
   "outputs": [],
   "source": [
    "def Future_value(monthly_payments, months):\n",
    "    return monthly_payments*months"
   ]
  },
  {
   "cell_type": "code",
   "execution_count": 5,
   "id": "e4e06abe",
   "metadata": {
    "scrolled": true
   },
   "outputs": [
    {
     "name": "stderr",
     "output_type": "stream",
     "text": [
      "C:\\Users\\thanh\\AppData\\Local\\Temp\\ipykernel_34208\\1536764622.py:1: SettingWithCopyWarning: \n",
      "A value is trying to be set on a copy of a slice from a DataFrame.\n",
      "Try using .loc[row_indexer,col_indexer] = value instead\n",
      "\n",
      "See the caveats in the documentation: https://pandas.pydata.org/pandas-docs/stable/user_guide/indexing.html#returning-a-view-versus-a-copy\n",
      "  loan_data['MonthlyPayment'] = 0.0\n",
      "C:\\Users\\thanh\\AppData\\Local\\Temp\\ipykernel_34208\\1536764622.py:2: SettingWithCopyWarning: \n",
      "A value is trying to be set on a copy of a slice from a DataFrame.\n",
      "Try using .loc[row_indexer,col_indexer] = value instead\n",
      "\n",
      "See the caveats in the documentation: https://pandas.pydata.org/pandas-docs/stable/user_guide/indexing.html#returning-a-view-versus-a-copy\n",
      "  loan_data['FutureValue']=0.0\n"
     ]
    },
    {
     "data": {
      "text/html": [
       "<div>\n",
       "<style scoped>\n",
       "    .dataframe tbody tr th:only-of-type {\n",
       "        vertical-align: middle;\n",
       "    }\n",
       "\n",
       "    .dataframe tbody tr th {\n",
       "        vertical-align: top;\n",
       "    }\n",
       "\n",
       "    .dataframe thead th {\n",
       "        text-align: right;\n",
       "    }\n",
       "</style>\n",
       "<table border=\"1\" class=\"dataframe\">\n",
       "  <thead>\n",
       "    <tr style=\"text-align: right;\">\n",
       "      <th></th>\n",
       "      <th>LoanAmount</th>\n",
       "      <th>InterestRate</th>\n",
       "      <th>LoanTerm</th>\n",
       "      <th>LoanPurpose</th>\n",
       "      <th>DefaultProbability</th>\n",
       "      <th>MonthlyPayment</th>\n",
       "      <th>FutureValue</th>\n",
       "    </tr>\n",
       "  </thead>\n",
       "  <tbody>\n",
       "    <tr>\n",
       "      <th>0</th>\n",
       "      <td>43797</td>\n",
       "      <td>6.10</td>\n",
       "      <td>24</td>\n",
       "      <td>Other</td>\n",
       "      <td>0.169157</td>\n",
       "      <td>1943.083842</td>\n",
       "      <td>46634.012209</td>\n",
       "    </tr>\n",
       "    <tr>\n",
       "      <th>1</th>\n",
       "      <td>18402</td>\n",
       "      <td>12.99</td>\n",
       "      <td>60</td>\n",
       "      <td>Business</td>\n",
       "      <td>0.067436</td>\n",
       "      <td>418.607855</td>\n",
       "      <td>25116.471272</td>\n",
       "    </tr>\n",
       "    <tr>\n",
       "      <th>2</th>\n",
       "      <td>151774</td>\n",
       "      <td>5.51</td>\n",
       "      <td>48</td>\n",
       "      <td>Other</td>\n",
       "      <td>0.073382</td>\n",
       "      <td>3530.420002</td>\n",
       "      <td>169460.160086</td>\n",
       "    </tr>\n",
       "    <tr>\n",
       "      <th>3</th>\n",
       "      <td>55789</td>\n",
       "      <td>23.93</td>\n",
       "      <td>36</td>\n",
       "      <td>Business</td>\n",
       "      <td>0.433869</td>\n",
       "      <td>2186.711676</td>\n",
       "      <td>78721.620332</td>\n",
       "    </tr>\n",
       "    <tr>\n",
       "      <th>4</th>\n",
       "      <td>189798</td>\n",
       "      <td>22.05</td>\n",
       "      <td>48</td>\n",
       "      <td>Auto</td>\n",
       "      <td>0.252992</td>\n",
       "      <td>5984.943769</td>\n",
       "      <td>287277.300894</td>\n",
       "    </tr>\n",
       "    <tr>\n",
       "      <th>5</th>\n",
       "      <td>196031</td>\n",
       "      <td>19.75</td>\n",
       "      <td>60</td>\n",
       "      <td>Education</td>\n",
       "      <td>0.164508</td>\n",
       "      <td>5166.391522</td>\n",
       "      <td>309983.491309</td>\n",
       "    </tr>\n",
       "    <tr>\n",
       "      <th>6</th>\n",
       "      <td>32179</td>\n",
       "      <td>6.45</td>\n",
       "      <td>24</td>\n",
       "      <td>Education</td>\n",
       "      <td>0.088060</td>\n",
       "      <td>1432.726740</td>\n",
       "      <td>34385.441754</td>\n",
       "    </tr>\n",
       "    <tr>\n",
       "      <th>7</th>\n",
       "      <td>101882</td>\n",
       "      <td>12.82</td>\n",
       "      <td>12</td>\n",
       "      <td>Business</td>\n",
       "      <td>0.145396</td>\n",
       "      <td>9091.221020</td>\n",
       "      <td>109094.652237</td>\n",
       "    </tr>\n",
       "    <tr>\n",
       "      <th>8</th>\n",
       "      <td>11560</td>\n",
       "      <td>22.84</td>\n",
       "      <td>36</td>\n",
       "      <td>Other</td>\n",
       "      <td>0.213354</td>\n",
       "      <td>446.520936</td>\n",
       "      <td>16074.753686</td>\n",
       "    </tr>\n",
       "    <tr>\n",
       "      <th>9</th>\n",
       "      <td>172152</td>\n",
       "      <td>13.28</td>\n",
       "      <td>12</td>\n",
       "      <td>Other</td>\n",
       "      <td>0.206757</td>\n",
       "      <td>15398.771735</td>\n",
       "      <td>184785.260817</td>\n",
       "    </tr>\n",
       "  </tbody>\n",
       "</table>\n",
       "</div>"
      ],
      "text/plain": [
       "   LoanAmount  InterestRate  LoanTerm LoanPurpose  DefaultProbability  \\\n",
       "0       43797          6.10        24       Other            0.169157   \n",
       "1       18402         12.99        60    Business            0.067436   \n",
       "2      151774          5.51        48       Other            0.073382   \n",
       "3       55789         23.93        36    Business            0.433869   \n",
       "4      189798         22.05        48        Auto            0.252992   \n",
       "5      196031         19.75        60   Education            0.164508   \n",
       "6       32179          6.45        24   Education            0.088060   \n",
       "7      101882         12.82        12    Business            0.145396   \n",
       "8       11560         22.84        36       Other            0.213354   \n",
       "9      172152         13.28        12       Other            0.206757   \n",
       "\n",
       "   MonthlyPayment    FutureValue  \n",
       "0     1943.083842   46634.012209  \n",
       "1      418.607855   25116.471272  \n",
       "2     3530.420002  169460.160086  \n",
       "3     2186.711676   78721.620332  \n",
       "4     5984.943769  287277.300894  \n",
       "5     5166.391522  309983.491309  \n",
       "6     1432.726740   34385.441754  \n",
       "7     9091.221020  109094.652237  \n",
       "8      446.520936   16074.753686  \n",
       "9    15398.771735  184785.260817  "
      ]
     },
     "execution_count": 5,
     "metadata": {},
     "output_type": "execute_result"
    }
   ],
   "source": [
    "loan_data['MonthlyPayment'] = 0.0\n",
    "loan_data['FutureValue']=0.0\n",
    "\n",
    "for i in range(loan_data.shape[0]):\n",
    "    principal = loan_data.loc[i, \"LoanAmount\"]\n",
    "    annual_rate = loan_data.loc[i, \"InterestRate\"]/100\n",
    "    months = loan_data.loc[i, \"LoanTerm\"]\n",
    "    loan_data.loc[i, \"MonthlyPayment\"] = monthly_payment(principal, annual_rate, months)\n",
    "    loan_data.loc[i,'FutureValue']= Future_value(loan_data.loc[i, \"MonthlyPayment\"], months)\n",
    "loan_data.head(10)"
   ]
  },
  {
   "cell_type": "code",
   "execution_count": 6,
   "id": "7b12ada9",
   "metadata": {},
   "outputs": [
    {
     "name": "stderr",
     "output_type": "stream",
     "text": [
      "C:\\Users\\thanh\\AppData\\Local\\Temp\\ipykernel_34208\\544357364.py:1: SettingWithCopyWarning: \n",
      "A value is trying to be set on a copy of a slice from a DataFrame.\n",
      "Try using .loc[row_indexer,col_indexer] = value instead\n",
      "\n",
      "See the caveats in the documentation: https://pandas.pydata.org/pandas-docs/stable/user_guide/indexing.html#returning-a-view-versus-a-copy\n",
      "  loan_data['Loan_end_boolean'] = np.zeros(loan_data.shape[0], dtype=bool)\n"
     ]
    },
    {
     "data": {
      "text/html": [
       "<div>\n",
       "<style scoped>\n",
       "    .dataframe tbody tr th:only-of-type {\n",
       "        vertical-align: middle;\n",
       "    }\n",
       "\n",
       "    .dataframe tbody tr th {\n",
       "        vertical-align: top;\n",
       "    }\n",
       "\n",
       "    .dataframe thead th {\n",
       "        text-align: right;\n",
       "    }\n",
       "</style>\n",
       "<table border=\"1\" class=\"dataframe\">\n",
       "  <thead>\n",
       "    <tr style=\"text-align: right;\">\n",
       "      <th></th>\n",
       "      <th>LoanAmount</th>\n",
       "      <th>InterestRate</th>\n",
       "      <th>LoanTerm</th>\n",
       "      <th>LoanPurpose</th>\n",
       "      <th>DefaultProbability</th>\n",
       "      <th>MonthlyPayment</th>\n",
       "      <th>FutureValue</th>\n",
       "      <th>Loan_end_boolean</th>\n",
       "    </tr>\n",
       "  </thead>\n",
       "  <tbody>\n",
       "    <tr>\n",
       "      <th>0</th>\n",
       "      <td>43797</td>\n",
       "      <td>6.10</td>\n",
       "      <td>24</td>\n",
       "      <td>Other</td>\n",
       "      <td>0.169157</td>\n",
       "      <td>1943.083842</td>\n",
       "      <td>46634.012209</td>\n",
       "      <td>False</td>\n",
       "    </tr>\n",
       "    <tr>\n",
       "      <th>1</th>\n",
       "      <td>18402</td>\n",
       "      <td>12.99</td>\n",
       "      <td>60</td>\n",
       "      <td>Business</td>\n",
       "      <td>0.067436</td>\n",
       "      <td>418.607855</td>\n",
       "      <td>25116.471272</td>\n",
       "      <td>False</td>\n",
       "    </tr>\n",
       "    <tr>\n",
       "      <th>2</th>\n",
       "      <td>151774</td>\n",
       "      <td>5.51</td>\n",
       "      <td>48</td>\n",
       "      <td>Other</td>\n",
       "      <td>0.073382</td>\n",
       "      <td>3530.420002</td>\n",
       "      <td>169460.160086</td>\n",
       "      <td>False</td>\n",
       "    </tr>\n",
       "    <tr>\n",
       "      <th>3</th>\n",
       "      <td>55789</td>\n",
       "      <td>23.93</td>\n",
       "      <td>36</td>\n",
       "      <td>Business</td>\n",
       "      <td>0.433869</td>\n",
       "      <td>2186.711676</td>\n",
       "      <td>78721.620332</td>\n",
       "      <td>False</td>\n",
       "    </tr>\n",
       "    <tr>\n",
       "      <th>4</th>\n",
       "      <td>189798</td>\n",
       "      <td>22.05</td>\n",
       "      <td>48</td>\n",
       "      <td>Auto</td>\n",
       "      <td>0.252992</td>\n",
       "      <td>5984.943769</td>\n",
       "      <td>287277.300894</td>\n",
       "      <td>False</td>\n",
       "    </tr>\n",
       "    <tr>\n",
       "      <th>5</th>\n",
       "      <td>196031</td>\n",
       "      <td>19.75</td>\n",
       "      <td>60</td>\n",
       "      <td>Education</td>\n",
       "      <td>0.164508</td>\n",
       "      <td>5166.391522</td>\n",
       "      <td>309983.491309</td>\n",
       "      <td>False</td>\n",
       "    </tr>\n",
       "    <tr>\n",
       "      <th>6</th>\n",
       "      <td>32179</td>\n",
       "      <td>6.45</td>\n",
       "      <td>24</td>\n",
       "      <td>Education</td>\n",
       "      <td>0.088060</td>\n",
       "      <td>1432.726740</td>\n",
       "      <td>34385.441754</td>\n",
       "      <td>False</td>\n",
       "    </tr>\n",
       "    <tr>\n",
       "      <th>7</th>\n",
       "      <td>101882</td>\n",
       "      <td>12.82</td>\n",
       "      <td>12</td>\n",
       "      <td>Business</td>\n",
       "      <td>0.145396</td>\n",
       "      <td>9091.221020</td>\n",
       "      <td>109094.652237</td>\n",
       "      <td>False</td>\n",
       "    </tr>\n",
       "    <tr>\n",
       "      <th>8</th>\n",
       "      <td>11560</td>\n",
       "      <td>22.84</td>\n",
       "      <td>36</td>\n",
       "      <td>Other</td>\n",
       "      <td>0.213354</td>\n",
       "      <td>446.520936</td>\n",
       "      <td>16074.753686</td>\n",
       "      <td>False</td>\n",
       "    </tr>\n",
       "    <tr>\n",
       "      <th>9</th>\n",
       "      <td>172152</td>\n",
       "      <td>13.28</td>\n",
       "      <td>12</td>\n",
       "      <td>Other</td>\n",
       "      <td>0.206757</td>\n",
       "      <td>15398.771735</td>\n",
       "      <td>184785.260817</td>\n",
       "      <td>False</td>\n",
       "    </tr>\n",
       "  </tbody>\n",
       "</table>\n",
       "</div>"
      ],
      "text/plain": [
       "   LoanAmount  InterestRate  LoanTerm LoanPurpose  DefaultProbability  \\\n",
       "0       43797          6.10        24       Other            0.169157   \n",
       "1       18402         12.99        60    Business            0.067436   \n",
       "2      151774          5.51        48       Other            0.073382   \n",
       "3       55789         23.93        36    Business            0.433869   \n",
       "4      189798         22.05        48        Auto            0.252992   \n",
       "5      196031         19.75        60   Education            0.164508   \n",
       "6       32179          6.45        24   Education            0.088060   \n",
       "7      101882         12.82        12    Business            0.145396   \n",
       "8       11560         22.84        36       Other            0.213354   \n",
       "9      172152         13.28        12       Other            0.206757   \n",
       "\n",
       "   MonthlyPayment    FutureValue  Loan_end_boolean  \n",
       "0     1943.083842   46634.012209             False  \n",
       "1      418.607855   25116.471272             False  \n",
       "2     3530.420002  169460.160086             False  \n",
       "3     2186.711676   78721.620332             False  \n",
       "4     5984.943769  287277.300894             False  \n",
       "5     5166.391522  309983.491309             False  \n",
       "6     1432.726740   34385.441754             False  \n",
       "7     9091.221020  109094.652237             False  \n",
       "8      446.520936   16074.753686             False  \n",
       "9    15398.771735  184785.260817             False  "
      ]
     },
     "execution_count": 6,
     "metadata": {},
     "output_type": "execute_result"
    }
   ],
   "source": [
    "loan_data['Loan_end_boolean'] = np.zeros(loan_data.shape[0], dtype=bool)\n",
    "loan_data.head(10)"
   ]
  },
  {
   "cell_type": "code",
   "execution_count": 7,
   "id": "af1953a2",
   "metadata": {},
   "outputs": [],
   "source": [
    "loan_data=loan_data[[\"LoanTerm\",\"LoanPurpose\",\"MonthlyPayment\",\"FutureValue\", \"Loan_end_boolean\"]]\n",
    "loan_data[\"PD0\"]=df[\"DefaultProbability\"]\n",
    "loan_test = pd.DataFrame({\n",
    "    \"LoanTerm\": [24, 36, 60, 24],\n",
    "    \"LoanPurpose\": [\"Business\", \"Personal\", \"Business\", \"Education\"],\n",
    "    \"MonthlyPayment\": [2000, 500, 1500, 800],\n",
    "    \"FutureValue\": [80000, 25000, 50000, 30000],\n",
    "    \"PD0\": [0.15, 0.08, 0.10, 0.25],\n",
    "    \"Loan_end_boolean\": False\n",
    "})\n"
   ]
  },
  {
   "cell_type": "code",
   "execution_count": 8,
   "id": "0dc64542",
   "metadata": {},
   "outputs": [],
   "source": [
    "#Simulation setup"
   ]
  },
  {
   "cell_type": "code",
   "execution_count": 9,
   "id": "7f063770",
   "metadata": {},
   "outputs": [],
   "source": [
    "def calculate_pd_matrix(loan_data, rate, max_term):\n",
    "    \"\"\"Vectorized PD calculation using your specified formula\"\"\"\n",
    "    is_business = (loan_data[\"LoanPurpose\"] == \"Business\").values\n",
    "    pd0 = loan_data[\"PD0\"].values\n",
    "    loan_terms = loan_data[\"LoanTerm\"].values\n",
    "    \n",
    "    # Create time grid [max_term x n_loans]\n",
    "    t = np.arange(max_term)[:, np.newaxis]\n",
    "    active_mask = t < loan_terms  # [max_term x n_loans]\n",
    "    \n",
    "    # Initialize PD matrix\n",
    "    pd_matrix = np.zeros((max_term, len(loan_data)))\n",
    "    \n",
    "    # Business loans: PD grows to 1\n",
    "    business_mask = active_mask & is_business\n",
    "    exponent_biz = -rate * t\n",
    "    pd_matrix[business_mask] = 1 / (1 + (1/pd0 - 1) * np.exp(exponent_biz))[business_mask]\n",
    "    \n",
    "    # Non-business loans: PD decays to 0\n",
    "    non_biz_mask = active_mask & ~is_business\n",
    "    exponent_non_biz = rate * t\n",
    "    pd_matrix[non_biz_mask] = 1 / (1 + (1/pd0 - 1) * np.exp(exponent_non_biz))[non_biz_mask]\n",
    "    \n",
    "    return pd_matrix"
   ]
  },
  {
   "cell_type": "code",
   "execution_count": 30,
   "id": "803b3026",
   "metadata": {},
   "outputs": [],
   "source": [
    "def simulate_cashflows(data, rate=0.1, recovery_rate=0.2, \n",
    "                      default_events=None, rng=None):\n",
    "    loan_data=data.copy()\n",
    "    if rng is None:\n",
    "        rng = np.random.default_rng()\n",
    "    \n",
    "    max_term = loan_data[\"LoanTerm\"].max()\n",
    "    cashflow_matrix = np.zeros((max_term, len(loan_data)))\n",
    "    loan_ended = loan_data[\"Loan_end_boolean\"].values.copy()\n",
    "    pd_matrix = calculate_pd_matrix(loan_data, rate, max_term)\n",
    "    \n",
    "    # Convert default_events to dictionary for quick lookup\n",
    "    event_dict = dict(default_events) if default_events else {}\n",
    "\n",
    "    for t in range(max_term):\n",
    "        active_mask = (~loan_ended) & (t <= loan_data[\"LoanTerm\"].values)\n",
    "        active_idx = np.where(active_mask)[0]\n",
    "        current_pd = pd_matrix[t, active_idx]\n",
    "        sum_pd = current_pd.sum()\n",
    "        # Get default count for this t (0 if not specified)\n",
    "        n_defaults = event_dict.get(t, 0)\n",
    "        n_defaults = min(n_defaults, len(active_idx))  # Can't exceed active loans\n",
    "        \n",
    "        if n_defaults > 0 and sum_pd > 1e-8:\n",
    "            # PD-weighted selection\n",
    "            weights = current_pd / sum_pd\n",
    "            weights /= weights.sum()  # Ensure exact sum=1\n",
    "            chosen = rng.choice(active_idx, size=int(n_defaults), replace=False, p=weights)\n",
    "            # Calculate recovery\n",
    "            fv = loan_data[\"FutureValue\"].values[chosen]\n",
    "            pmt = loan_data[\"MonthlyPayment\"].values[chosen]\n",
    "            cashflow_matrix[t, chosen] = (fv - (t)*pmt) * recovery_rate\n",
    "            loan_ended[chosen] = True\n",
    "            # Regular payments for non-defaults\n",
    "            non_default = np.setdiff1d(active_idx, chosen)\n",
    "            cashflow_matrix[t, non_default] = loan_data[\"MonthlyPayment\"].values[non_default]\n",
    "        else:\n",
    "            cashflow_matrix[t, active_idx] = loan_data[\"MonthlyPayment\"].values[active_idx]\n",
    "    loan_data[\"Loan_end_boolean\"] = loan_ended\n",
    "    return cashflow_matrix,pd_matrix"
   ]
  },
  {
   "cell_type": "code",
   "execution_count": 31,
   "id": "df637845",
   "metadata": {},
   "outputs": [],
   "source": [
    "def default_schedule_generation(loan_data,num_default_times, total_percent, \n",
    "                               peak_center=24, peak_std=12, rng=None):\n",
    "    if rng is None:\n",
    "        rng = np.random.default_rng()\n",
    "    max_term = loan_data[\"LoanTerm\"].max()\n",
    "    # Generate default times with normal distribution\n",
    "    times = []\n",
    "    while len(times) < num_default_times:\n",
    "        new_times = rng.normal(loc=peak_center, scale=peak_std, \n",
    "                             size=num_default_times - len(times))\n",
    "        new_times = np.clip(np.round(new_times), 1, max_term).astype(int)\n",
    "        times = list(np.unique(np.concatenate([times, new_times])))\n",
    "    \n",
    "    # Assign percentages using Dirichlet distribution\n",
    "    proportions = rng.dirichlet(np.ones(num_default_times))\n",
    "    percentages = proportions * total_percent\n",
    "    people_default_num=(percentages/100)*loan_data.shape[0]\n",
    "    for i in range(len(people_default_num)):\n",
    "        people_default_num[i]=int(people_default_num[i])-1\n",
    "    return sorted(zip(times, people_default_num), key=lambda x: x[0])\n"
   ]
  },
  {
   "cell_type": "code",
   "execution_count": 65,
   "id": "13e830f3",
   "metadata": {},
   "outputs": [
    {
     "data": {
      "text/plain": [
       "array([6.14964813e+08, 6.14964813e+08, 6.14964813e+08, 6.14964813e+08,\n",
       "       6.14964813e+08, 6.14964813e+08, 6.14964813e+08, 6.14964813e+08,\n",
       "       6.14964813e+08, 6.14964813e+08, 6.14964813e+08, 6.14964813e+08,\n",
       "       6.14964813e+08, 3.70188373e+08, 3.70188373e+08, 3.70188373e+08,\n",
       "       3.70188373e+08, 3.70188373e+08, 3.70188373e+08, 3.70188373e+08,\n",
       "       3.70188373e+08, 3.70188373e+08, 3.70188373e+08, 3.70188373e+08,\n",
       "       3.70188373e+08, 2.37288084e+08, 2.37288084e+08, 2.37288084e+08,\n",
       "       2.37288084e+08, 2.37288084e+08, 2.37288084e+08, 2.37288084e+08,\n",
       "       2.37288084e+08, 2.37288084e+08, 2.37288084e+08, 2.37288084e+08,\n",
       "       2.37288084e+08, 1.42064604e+08, 1.42064604e+08, 1.42064604e+08,\n",
       "       1.42064604e+08, 1.42064604e+08, 1.42064604e+08, 1.42064604e+08,\n",
       "       1.42064604e+08, 1.42064604e+08, 1.42064604e+08, 1.42064604e+08,\n",
       "       1.42064604e+08, 6.47439072e+07, 6.47439072e+07, 6.47439072e+07,\n",
       "       6.47439072e+07, 6.47439072e+07, 6.47439072e+07, 6.47439072e+07,\n",
       "       6.47439072e+07, 6.47439072e+07, 6.47439072e+07, 6.47439072e+07])"
      ]
     },
     "execution_count": 65,
     "metadata": {},
     "output_type": "execute_result"
    }
   ],
   "source": [
    "# Run simulation\n",
    "#no defaults, ideal case\n",
    "results_no_defaults,pd_matrix = simulate_cashflows(\n",
    "    loan_data,\n",
    "    rate=0.15,\n",
    "    recovery_rate=0.3,\n",
    ")\n",
    "no_default_data=np.sum(results_no_defaults, axis=1)\n",
    "no_default_data"
   ]
  },
  {
   "cell_type": "code",
   "execution_count": 66,
   "id": "852c2562",
   "metadata": {},
   "outputs": [
    {
     "name": "stdout",
     "output_type": "stream",
     "text": [
      "[(1.0, 80.0), (2.0, 23.0), (9.0, 154.0), (11.0, 381.0), (12.0, 124.0), (13.0, 142.0), (14.0, 175.0), (15.0, 199.0), (16.0, 112.0), (18.0, 60.0), (20.0, 72.0), (21.0, 157.0), (22.0, 232.0), (23.0, 52.0), (25.0, 66.0), (26.0, 14.0), (27.0, 27.0), (28.0, 36.0), (29.0, 57.0), (31.0, 40.0), (32.0, 9.0), (33.0, 71.0), (34.0, 197.0), (36.0, 117.0), (37.0, 74.0), (38.0, 50.0), (39.0, 291.0), (42.0, 24.0), (44.0, 187.0), (50.0, 16.0)]\n",
      "[6.14964813e+08 6.18270658e+08 6.15411757e+08 6.14310256e+08\n",
      " 6.14310256e+08 6.14310256e+08 6.14310256e+08 6.14310256e+08\n",
      " 6.14310256e+08 6.18925414e+08 6.13334434e+08 6.22980288e+08\n",
      " 6.15486795e+08 3.71838505e+08 3.71503406e+08 3.71229553e+08\n",
      " 3.67417332e+08 3.64351497e+08 3.65773289e+08 3.64082261e+08\n",
      " 3.65294788e+08 3.66230250e+08 3.67068252e+08 3.62910960e+08\n",
      " 3.61841257e+08 2.33417593e+08 2.31928569e+08 2.32022542e+08\n",
      " 2.32154401e+08 2.32256547e+08 2.31215515e+08 2.31789782e+08\n",
      " 2.31223755e+08 2.31754327e+08 2.32773020e+08 2.30067838e+08\n",
      " 2.31534652e+08 1.38349649e+08 1.37833828e+08 1.40098108e+08\n",
      " 1.36084866e+08 1.36084866e+08 1.36308864e+08 1.35995264e+08\n",
      " 1.37039098e+08 1.35409695e+08 1.35409695e+08 1.35409695e+08\n",
      " 1.35409695e+08 6.17631085e+07 6.18630697e+07 6.17131279e+07\n",
      " 6.17131279e+07 6.17131279e+07 6.17131279e+07 6.17131279e+07\n",
      " 6.17131279e+07 6.17131279e+07 6.17131279e+07 6.17131279e+07]\n"
     ]
    }
   ],
   "source": [
    "# 3% of portfolio defaults at random number of time\n",
    "default_schedule_rand_3=default_schedule_generation(loan_data,random.randint(1,int(100/3)),3)\n",
    "results_3,pd_matrix = simulate_cashflows(\n",
    "    loan_data,\n",
    "    rate=0.15,\n",
    "    recovery_rate=0.3,\n",
    "    default_events=default_schedule_rand_3\n",
    ")\n",
    "print(default_schedule_rand_3)\n",
    "data_3=np.sum(results_3, axis=1)\n",
    "print(data_3)"
   ]
  },
  {
   "cell_type": "code",
   "execution_count": 67,
   "id": "6952fc5f",
   "metadata": {},
   "outputs": [
    {
     "name": "stdout",
     "output_type": "stream",
     "text": [
      "[(17.0, 9990.0), (22.0, 950.0)]\n",
      "[6.14964813e+08 6.14964813e+08 6.14964813e+08 6.14964813e+08\n",
      " 6.14964813e+08 6.14964813e+08 6.14964813e+08 6.14964813e+08\n",
      " 6.14964813e+08 6.14964813e+08 6.14964813e+08 6.14964813e+08\n",
      " 6.14964813e+08 3.70188373e+08 3.70188373e+08 3.70188373e+08\n",
      " 3.70188373e+08 6.12364907e+08 3.25635728e+08 3.25635728e+08\n",
      " 3.25635728e+08 3.25635728e+08 3.41656042e+08 3.21459361e+08\n",
      " 3.21459361e+08 2.06185982e+08 2.06185982e+08 2.06185982e+08\n",
      " 2.06185982e+08 2.06185982e+08 2.06185982e+08 2.06185982e+08\n",
      " 2.06185982e+08 2.06185982e+08 2.06185982e+08 2.06185982e+08\n",
      " 2.06185982e+08 1.23144632e+08 1.23144632e+08 1.23144632e+08\n",
      " 1.23144632e+08 1.23144632e+08 1.23144632e+08 1.23144632e+08\n",
      " 1.23144632e+08 1.23144632e+08 1.23144632e+08 1.23144632e+08\n",
      " 1.23144632e+08 5.61939022e+07 5.61939022e+07 5.61939022e+07\n",
      " 5.61939022e+07 5.61939022e+07 5.61939022e+07 5.61939022e+07\n",
      " 5.61939022e+07 5.61939022e+07 5.61939022e+07 5.61939022e+07]\n"
     ]
    }
   ],
   "source": [
    "# 10% of portfolio defaults at random number of time\n",
    "default_schedule_rand_10=default_schedule_generation(loan_data,random.randint(1,int(100/10)),10)\n",
    "results_10,pd_matrix = simulate_cashflows(\n",
    "    loan_data,\n",
    "    rate=0.15,\n",
    "    recovery_rate=0.3,\n",
    "    default_events=default_schedule_rand_10\n",
    ")\n",
    "data_10=np.sum(results_10, axis=1)\n",
    "print(default_schedule_rand_10)\n",
    "print(data_10)"
   ]
  },
  {
   "cell_type": "code",
   "execution_count": 68,
   "id": "ce072ecc",
   "metadata": {
    "scrolled": true
   },
   "outputs": [
    {
     "data": {
      "image/png": "[encoded data removed]",
      "text/plain": [
       "<Figure size 1200x600 with 1 Axes>"
      ]
     },
     "metadata": {},
     "output_type": "display_data"
    }
   ],
   "source": [
    "plt.figure(figsize=(12, 6))\n",
    "plt.plot(no_default_data, marker='.', linestyle='-', linewidth=1)\n",
    "plt.plot(data_10, marker='*', linestyle='-', linewidth=1)\n",
    "plt.plot(data_3, marker='.', linestyle='-', linewidth=1)\n",
    "plt.xlabel('Months into the loan', fontsize=12)\n",
    "plt.ylabel('US Dollars $', fontsize=12)\n",
    "plt.title('Cashflow from underlying', fontsize=14)\n",
    "plt.show()"
   ]
  },
  {
   "cell_type": "code",
   "execution_count": 69,
   "id": "b6d74712",
   "metadata": {},
   "outputs": [
    {
     "data": {
      "text/plain": [
       "(109435, 19)"
      ]
     },
     "execution_count": 69,
     "metadata": {},
     "output_type": "execute_result"
    }
   ],
   "source": [
    "df.shape"
   ]
  },
  {
   "cell_type": "code",
   "execution_count": 70,
   "id": "cb071d60",
   "metadata": {},
   "outputs": [],
   "source": [
    "cdo_data= pd.read_csv(\"clustered_output.csv\")\n"
   ]
  },
  {
   "cell_type": "code",
   "execution_count": 71,
   "id": "a24b39db",
   "metadata": {},
   "outputs": [
    {
     "data": {
      "text/html": [
       "<div>\n",
       "<style scoped>\n",
       "    .dataframe tbody tr th:only-of-type {\n",
       "        vertical-align: middle;\n",
       "    }\n",
       "\n",
       "    .dataframe tbody tr th {\n",
       "        vertical-align: top;\n",
       "    }\n",
       "\n",
       "    .dataframe thead th {\n",
       "        text-align: right;\n",
       "    }\n",
       "</style>\n",
       "<table border=\"1\" class=\"dataframe\">\n",
       "  <thead>\n",
       "    <tr style=\"text-align: right;\">\n",
       "      <th></th>\n",
       "      <th>LoanAmount</th>\n",
       "      <th>LoanTerm</th>\n",
       "      <th>Cluster</th>\n",
       "    </tr>\n",
       "  </thead>\n",
       "  <tbody>\n",
       "    <tr>\n",
       "      <th>0</th>\n",
       "      <td>43797</td>\n",
       "      <td>24</td>\n",
       "      <td>0</td>\n",
       "    </tr>\n",
       "    <tr>\n",
       "      <th>1</th>\n",
       "      <td>18402</td>\n",
       "      <td>60</td>\n",
       "      <td>1</td>\n",
       "    </tr>\n",
       "    <tr>\n",
       "      <th>2</th>\n",
       "      <td>151774</td>\n",
       "      <td>48</td>\n",
       "      <td>0</td>\n",
       "    </tr>\n",
       "    <tr>\n",
       "      <th>3</th>\n",
       "      <td>55789</td>\n",
       "      <td>36</td>\n",
       "      <td>2</td>\n",
       "    </tr>\n",
       "    <tr>\n",
       "      <th>4</th>\n",
       "      <td>189798</td>\n",
       "      <td>48</td>\n",
       "      <td>2</td>\n",
       "    </tr>\n",
       "    <tr>\n",
       "      <th>...</th>\n",
       "      <td>...</td>\n",
       "      <td>...</td>\n",
       "      <td>...</td>\n",
       "    </tr>\n",
       "    <tr>\n",
       "      <th>109430</th>\n",
       "      <td>108110</td>\n",
       "      <td>36</td>\n",
       "      <td>0</td>\n",
       "    </tr>\n",
       "    <tr>\n",
       "      <th>109431</th>\n",
       "      <td>238508</td>\n",
       "      <td>24</td>\n",
       "      <td>0</td>\n",
       "    </tr>\n",
       "    <tr>\n",
       "      <th>109432</th>\n",
       "      <td>18513</td>\n",
       "      <td>36</td>\n",
       "      <td>1</td>\n",
       "    </tr>\n",
       "    <tr>\n",
       "      <th>109433</th>\n",
       "      <td>38414</td>\n",
       "      <td>36</td>\n",
       "      <td>2</td>\n",
       "    </tr>\n",
       "    <tr>\n",
       "      <th>109434</th>\n",
       "      <td>222659</td>\n",
       "      <td>48</td>\n",
       "      <td>2</td>\n",
       "    </tr>\n",
       "  </tbody>\n",
       "</table>\n",
       "<p>109435 rows × 3 columns</p>\n",
       "</div>"
      ],
      "text/plain": [
       "        LoanAmount  LoanTerm  Cluster\n",
       "0            43797        24        0\n",
       "1            18402        60        1\n",
       "2           151774        48        0\n",
       "3            55789        36        2\n",
       "4           189798        48        2\n",
       "...            ...       ...      ...\n",
       "109430      108110        36        0\n",
       "109431      238508        24        0\n",
       "109432       18513        36        1\n",
       "109433       38414        36        2\n",
       "109434      222659        48        2\n",
       "\n",
       "[109435 rows x 3 columns]"
      ]
     },
     "execution_count": 71,
     "metadata": {},
     "output_type": "execute_result"
    }
   ],
   "source": [
    "cdo_data=cdo_data[[\"LoanAmount\",\n",
    "    \"LoanTerm\", \"Cluster\"]]\n",
    "cdo_data"
   ]
  },
  {
   "cell_type": "code",
   "execution_count": 72,
   "id": "b976eda1",
   "metadata": {},
   "outputs": [
    {
     "data": {
      "text/plain": [
       "0         1824.875000\n",
       "1          306.700000\n",
       "2         3161.958333\n",
       "3         1549.694444\n",
       "4         3954.125000\n",
       "             ...     \n",
       "109430    3003.055556\n",
       "109431    9937.833333\n",
       "109432     514.250000\n",
       "109433    1067.055556\n",
       "109434    4638.729167\n",
       "Name: Principal, Length: 109435, dtype: float64"
      ]
     },
     "execution_count": 72,
     "metadata": {},
     "output_type": "execute_result"
    }
   ],
   "source": [
    "cdo_data[\"Principal\"]=cdo_data[\"LoanAmount\"]/cdo_data[\"LoanTerm\"]\n",
    "cdo_data[\"Principal\"]"
   ]
  },
  {
   "cell_type": "code",
   "execution_count": null,
   "id": "58a4bbbc",
   "metadata": {},
   "outputs": [],
   "source": []
  },
  {
   "cell_type": "code",
   "execution_count": 73,
   "id": "b441ae69",
   "metadata": {},
   "outputs": [
    {
     "data": {
      "text/plain": [
       "[4421153849, 5256249631, 4274085879]"
      ]
     },
     "execution_count": 73,
     "metadata": {},
     "output_type": "execute_result"
    }
   ],
   "source": [
    "Tranches_size = []\n",
    "for i in range(0, 3):\n",
    "    tranche_sum = cdo_data[\"LoanAmount\"][cdo_data[\"Cluster\"] == i].sum()\n",
    "    Tranches_size.append(tranche_sum)\n",
    "    \n",
    "Tranches_size"
   ]
  },
  {
   "cell_type": "code",
   "execution_count": null,
   "id": "d9d7afc6",
   "metadata": {},
   "outputs": [],
   "source": []
  },
  {
   "cell_type": "code",
   "execution_count": 74,
   "id": "faf44532",
   "metadata": {
    "scrolled": true
   },
   "outputs": [],
   "source": [
    "Principal_senior = []\n",
    "Principal_mez = []\n",
    "Interest_senior = []\n",
    "Interest_mez = []\n",
    "\n",
    "for i in range(0, cdo_data[\"LoanTerm\"].max()):\n",
    "    # Get boolean Series from time_mask\n",
    "    time_condition = cdo_data[\"LoanTerm\"] >= i\n",
    "    \n",
    "    # Create combined masks\n",
    "    senior_mask = time_condition & (cdo_data[\"Cluster\"] == 1)\n",
    "    mez_mask = time_condition & (cdo_data[\"Cluster\"] == 0)\n",
    "    \n",
    "    # Calculate principal payments\n",
    "    Principal_senior.append(cdo_data[\"Principal\"][senior_mask].sum())\n",
    "    Principal_mez.append(cdo_data[\"Principal\"][mez_mask].sum())\n",
    "    Interest_senior.append(cdo_data[\"LoanAmount\"][senior_mask].sum() * (0.05/12))\n",
    "    Interest_mez.append(cdo_data[\"LoanAmount\"][mez_mask].sum() * (0.07/12))  "
   ]
  },
  {
   "cell_type": "code",
   "execution_count": 75,
   "id": "4f5e4a01",
   "metadata": {
    "scrolled": true
   },
   "outputs": [
    {
     "name": "stdout",
     "output_type": "stream",
     "text": [
      "198874562.12222221\n",
      "166621793.4013889\n",
      "21901040.129166666\n",
      "25790064.11916667\n"
     ]
    }
   ],
   "source": [
    "print(Principal_senior[0])\n",
    "print(Principal_mez[0])\n",
    "print(Interest_senior[0])\n",
    "print(Interest_mez[0])"
   ]
  },
  {
   "cell_type": "code",
   "execution_count": 76,
   "id": "2ef932fe",
   "metadata": {},
   "outputs": [
    {
     "name": "stdout",
     "output_type": "stream",
     "text": [
      "413187459.77194446\n"
     ]
    }
   ],
   "source": [
    "print(Principal_senior[0]+Principal_mez[0]+Interest_senior[0]+Interest_mez[0])"
   ]
  },
  {
   "cell_type": "code",
   "execution_count": 77,
   "id": "c4069d5c",
   "metadata": {},
   "outputs": [],
   "source": [
    "residual= []\n",
    "for i in range(0,60):\n",
    "    residual.append(no_default_data[i]-(Principal_senior[i]+Principal_mez[i]+Interest_senior[i]+Interest_mez[i]))"
   ]
  },
  {
   "cell_type": "code",
   "execution_count": 78,
   "id": "a217f5d7",
   "metadata": {},
   "outputs": [
    {
     "data": {
      "text/plain": [
       "[201777353.4497884,\n",
       " 201777353.4497884,\n",
       " 201777353.4497884,\n",
       " 201777353.4497884,\n",
       " 201777353.4497884,\n",
       " 201777353.4497884,\n",
       " 201777353.4497884,\n",
       " 201777353.4497884,\n",
       " 201777353.4497884,\n",
       " 201777353.4497884,\n",
       " 201777353.4497884,\n",
       " 201777353.4497884,\n",
       " 201777353.4497884,\n",
       " 124159165.88179436,\n",
       " 124159165.88179436,\n",
       " 124159165.88179436,\n",
       " 124159165.88179436,\n",
       " 124159165.88179436,\n",
       " 124159165.88179436,\n",
       " 124159165.88179436,\n",
       " 124159165.88179436,\n",
       " 124159165.88179436,\n",
       " 124159165.88179436,\n",
       " 124159165.88179436,\n",
       " 124159165.88179436,\n",
       " 81332067.27274767,\n",
       " 81332067.27274767,\n",
       " 81332067.27274767,\n",
       " 81332067.27274767,\n",
       " 81332067.27274767,\n",
       " 81332067.27274767,\n",
       " 81332067.27274767,\n",
       " 81332067.27274767,\n",
       " 81332067.27274767,\n",
       " 81332067.27274767,\n",
       " 81332067.27274767,\n",
       " 81332067.27274767,\n",
       " 49144983.41679418,\n",
       " 49144983.41679418,\n",
       " 49144983.41679418,\n",
       " 49144983.41679418,\n",
       " 49144983.41679418,\n",
       " 49144983.41679418,\n",
       " 49144983.41679418,\n",
       " 49144983.41679418,\n",
       " 49144983.41679418,\n",
       " 49144983.41679418,\n",
       " 49144983.41679418,\n",
       " 49144983.41679418,\n",
       " 22499896.86347474,\n",
       " 22499896.86347474,\n",
       " 22499896.86347474,\n",
       " 22499896.86347474,\n",
       " 22499896.86347474,\n",
       " 22499896.86347474,\n",
       " 22499896.86347474,\n",
       " 22499896.86347474,\n",
       " 22499896.86347474,\n",
       " 22499896.86347474,\n",
       " 22499896.86347474]"
      ]
     },
     "execution_count": 78,
     "metadata": {},
     "output_type": "execute_result"
    }
   ],
   "source": [
    "residual"
   ]
  },
  {
   "cell_type": "code",
   "execution_count": 79,
   "id": "374fec8d",
   "metadata": {},
   "outputs": [
    {
     "data": {
      "image/png": "[encoded data removed]",
      "text/plain": [
       "<Figure size 1200x600 with 2 Axes>"
      ]
     },
     "metadata": {},
     "output_type": "display_data"
    }
   ],
   "source": [
    "\n",
    "fig, ax1 = plt.subplots(figsize=(12, 6))\n",
    "\n",
    "# Plot lines on primary axis\n",
    "ax1.plot(no_default_data, marker='.', linestyle='-', linewidth=1, label='No Default Data')\n",
    "ax1.plot(data_10, marker='*', linestyle='-', linewidth=1, label='Data 10')\n",
    "ax1.plot(data_3, marker='.', linestyle='-', linewidth=1, label='Data 3')\n",
    "ax1.set_xlabel('Months into the loan', fontsize=12)\n",
    "ax1.set_ylabel('Line Plot Values ($)', fontsize=12)\n",
    "ax2 = ax1.twinx()\n",
    "width = 0.8\n",
    "indices = np.arange(len(Principal_senior))\n",
    "# Stack components bottom-to-top\n",
    "components = [\n",
    "    Interest_senior,\n",
    "    Interest_mez,\n",
    "    Principal_senior,\n",
    "    Principal_mez,\n",
    "    residual\n",
    "]\n",
    "\n",
    "colors = ['#1f77b430', '#ff7f0e30', '#2ca02c30', '#d6272830', '#9467bd30']\n",
    "labels = [ \n",
    "         'Interest Senior', 'Interest Mez','Principal Senior', 'Principal Mez',\"Residual\"]\n",
    "\n",
    "bottom = np.zeros(len(Principal_senior))\n",
    "for i, (comp, color) in enumerate(zip(components, colors)):\n",
    "    ax2.bar(indices, comp, width, bottom=bottom, \n",
    "           color=color, edgecolor='black', linewidth=0.5,\n",
    "           label=labels[i])\n",
    "    bottom += comp\n",
    "\n",
    "ax2.set_ylabel('Stacked Cashflows ($)', fontsize=12)\n",
    "ax2.set_ylim(0, max(bottom)*1.1)  # Add 10% headroom\n",
    "\n",
    "\n",
    "lines1, labels1 = ax1.get_legend_handles_labels()\n",
    "lines2, labels2 = ax2.get_legend_handles_labels()\n",
    "ax1.legend(lines1 + lines2, labels1 + labels2, \n",
    "          bbox_to_anchor=(1.1, 1), loc='upper left')\n",
    "\n",
    "plt.title('Combined Cashflow Visualization', fontsize=14)\n",
    "plt.tight_layout()"
   ]
  },
  {
   "cell_type": "code",
   "execution_count": 80,
   "id": "eafbb7c5",
   "metadata": {},
   "outputs": [
    {
     "data": {
      "image/png": "[encoded data removed]",
      "text/plain": [
       "<Figure size 1200x600 with 1 Axes>"
      ]
     },
     "metadata": {},
     "output_type": "display_data"
    }
   ],
   "source": [
    "fig, ax1 = plt.subplots(figsize=(12, 6))\n",
    "\n",
    "# Plot lines\n",
    "ax1.plot(no_default_data, marker='.', linestyle='-', linewidth=1, label='No Default Data')\n",
    "ax1.plot(data_10, marker='*', linestyle='-', linewidth=1, label='Data 10')\n",
    "ax1.plot(data_3, marker='.', linestyle='-', linewidth=1, label='Data 3')\n",
    "ax1.set_xlabel('Months into the loan', fontsize=12)\n",
    "ax1.set_ylabel('US Dollars ($)', fontsize=12) \n",
    "\n",
    "# Plot stacked bars on the same axis\n",
    "width = 0.8\n",
    "indices = np.arange(len(Principal_senior))\n",
    "components = [\n",
    "    Interest_senior,\n",
    "    Interest_mez,\n",
    "    Principal_senior,\n",
    "    Principal_mez,\n",
    "    residual\n",
    "]\n",
    "colors = ['#1f77b430', '#ff7f0e30', '#2ca02c30', '#d6272830', '#9467bd30']\n",
    "labels = ['Interest Senior', 'Interest Mez', 'Principal Senior', 'Principal Mez', 'Residual']\n",
    "\n",
    "bottom = np.zeros(len(Principal_senior))\n",
    "for i, (comp, color) in enumerate(zip(components, colors)):\n",
    "    ax1.bar(indices, comp, width, bottom=bottom, \n",
    "            color=color, edgecolor='black', linewidth=0.5,\n",
    "            label=labels[i])\n",
    "    bottom += comp\n",
    "\n",
    "\n",
    "# Combine legends\n",
    "lines, labels = ax1.get_legend_handles_labels()\n",
    "ax1.legend(lines, labels, bbox_to_anchor=(1.1, 1), loc='upper left')\n",
    "\n",
    "plt.title('CDO Waterfall', fontsize=14)\n",
    "plt.tight_layout()\n",
    "plt.savefig(\"CDO Waterfall\", dpi=300)\n",
    "plt.show()"
   ]
  },
  {
   "cell_type": "code",
   "execution_count": null,
   "id": "3fb4a2b2",
   "metadata": {},
   "outputs": [],
   "source": []
  }
 ],
 "metadata": {
  "kernelspec": {
   "display_name": "Python 3 (ipykernel)",
   "language": "python",
   "name": "python3"
  },
  "language_info": {
   "codemirror_mode": {
    "name": "ipython",
    "version": 3
   },
   "file_extension": ".py",
   "mimetype": "text/x-python",
   "name": "python",
   "nbconvert_exporter": "python",
   "pygments_lexer": "ipython3",
   "version": "3.11.5"
  }
 },
 "nbformat": 4,
 "nbformat_minor": 5
}
